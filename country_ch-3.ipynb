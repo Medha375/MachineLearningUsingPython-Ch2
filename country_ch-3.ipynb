{
 "cells": [
  {
   "cell_type": "code",
   "execution_count": 2,
   "id": "a39b6513-ccf6-4d0c-a075-6ea250b06d3e",
   "metadata": {},
   "outputs": [],
   "source": [
    "import pandas as pd\n",
    "import numpy as np\n",
    "import os"
   ]
  },
  {
   "cell_type": "code",
   "execution_count": 6,
   "id": "056fd26b-68f5-4304-a995-fc55e9e15ab4",
   "metadata": {},
   "outputs": [
    {
     "name": "stdout",
     "output_type": "stream",
     "text": [
      "C:\\Users\\smedh\n"
     ]
    }
   ],
   "source": [
    "print(os.getcwd())"
   ]
  },
  {
   "cell_type": "code",
   "execution_count": 12,
   "id": "ff66f82e-9e9b-4f7a-93a6-ed4ef51a9efb",
   "metadata": {},
   "outputs": [
    {
     "data": {
      "text/html": [
       "<div>\n",
       "<style scoped>\n",
       "    .dataframe tbody tr th:only-of-type {\n",
       "        vertical-align: middle;\n",
       "    }\n",
       "\n",
       "    .dataframe tbody tr th {\n",
       "        vertical-align: top;\n",
       "    }\n",
       "\n",
       "    .dataframe thead th {\n",
       "        text-align: right;\n",
       "    }\n",
       "</style>\n",
       "<table border=\"1\" class=\"dataframe\">\n",
       "  <thead>\n",
       "    <tr style=\"text-align: right;\">\n",
       "      <th></th>\n",
       "      <th>Country</th>\n",
       "      <th>Corruption_Index</th>\n",
       "      <th>Gini_Index</th>\n",
       "    </tr>\n",
       "  </thead>\n",
       "  <tbody>\n",
       "    <tr>\n",
       "      <th>0</th>\n",
       "      <td>Hong Kong</td>\n",
       "      <td>77</td>\n",
       "      <td>53.7</td>\n",
       "    </tr>\n",
       "    <tr>\n",
       "      <th>1</th>\n",
       "      <td>South Korea</td>\n",
       "      <td>53</td>\n",
       "      <td>30.2</td>\n",
       "    </tr>\n",
       "    <tr>\n",
       "      <th>2</th>\n",
       "      <td>China</td>\n",
       "      <td>40</td>\n",
       "      <td>46.2</td>\n",
       "    </tr>\n",
       "    <tr>\n",
       "      <th>3</th>\n",
       "      <td>Italy</td>\n",
       "      <td>47</td>\n",
       "      <td>32.7</td>\n",
       "    </tr>\n",
       "    <tr>\n",
       "      <th>4</th>\n",
       "      <td>Mongolia</td>\n",
       "      <td>38</td>\n",
       "      <td>36.5</td>\n",
       "    </tr>\n",
       "    <tr>\n",
       "      <th>5</th>\n",
       "      <td>Austria</td>\n",
       "      <td>75</td>\n",
       "      <td>27.6</td>\n",
       "    </tr>\n",
       "    <tr>\n",
       "      <th>6</th>\n",
       "      <td>Norway</td>\n",
       "      <td>85</td>\n",
       "      <td>23.5</td>\n",
       "    </tr>\n",
       "    <tr>\n",
       "      <th>7</th>\n",
       "      <td>UK</td>\n",
       "      <td>81</td>\n",
       "      <td>31.6</td>\n",
       "    </tr>\n",
       "    <tr>\n",
       "      <th>8</th>\n",
       "      <td>Canada</td>\n",
       "      <td>82</td>\n",
       "      <td>33.7</td>\n",
       "    </tr>\n",
       "    <tr>\n",
       "      <th>9</th>\n",
       "      <td>Germany</td>\n",
       "      <td>81</td>\n",
       "      <td>30.7</td>\n",
       "    </tr>\n",
       "    <tr>\n",
       "      <th>10</th>\n",
       "      <td>Sweden</td>\n",
       "      <td>88</td>\n",
       "      <td>25.4</td>\n",
       "    </tr>\n",
       "    <tr>\n",
       "      <th>11</th>\n",
       "      <td>Denmark</td>\n",
       "      <td>90</td>\n",
       "      <td>27.5</td>\n",
       "    </tr>\n",
       "    <tr>\n",
       "      <th>12</th>\n",
       "      <td>France</td>\n",
       "      <td>69</td>\n",
       "      <td>30.1</td>\n",
       "    </tr>\n",
       "    <tr>\n",
       "      <th>13</th>\n",
       "      <td>United States</td>\n",
       "      <td>74</td>\n",
       "      <td>40.8</td>\n",
       "    </tr>\n",
       "    <tr>\n",
       "      <th>14</th>\n",
       "      <td>Russia</td>\n",
       "      <td>29</td>\n",
       "      <td>40.1</td>\n",
       "    </tr>\n",
       "    <tr>\n",
       "      <th>15</th>\n",
       "      <td>Portugal</td>\n",
       "      <td>62</td>\n",
       "      <td>34.2</td>\n",
       "    </tr>\n",
       "    <tr>\n",
       "      <th>16</th>\n",
       "      <td>Romania</td>\n",
       "      <td>48</td>\n",
       "      <td>34.0</td>\n",
       "    </tr>\n",
       "    <tr>\n",
       "      <th>17</th>\n",
       "      <td>Argentina</td>\n",
       "      <td>36</td>\n",
       "      <td>42.7</td>\n",
       "    </tr>\n",
       "    <tr>\n",
       "      <th>18</th>\n",
       "      <td>Greece</td>\n",
       "      <td>44</td>\n",
       "      <td>34.2</td>\n",
       "    </tr>\n",
       "    <tr>\n",
       "      <th>19</th>\n",
       "      <td>Thailand</td>\n",
       "      <td>35</td>\n",
       "      <td>39.4</td>\n",
       "    </tr>\n",
       "  </tbody>\n",
       "</table>\n",
       "</div>"
      ],
      "text/plain": [
       "          Country  Corruption_Index  Gini_Index\n",
       "0       Hong Kong                77        53.7\n",
       "1     South Korea                53        30.2\n",
       "2           China                40        46.2\n",
       "3           Italy                47        32.7\n",
       "4        Mongolia                38        36.5\n",
       "5         Austria                75        27.6\n",
       "6          Norway                85        23.5\n",
       "7              UK                81        31.6\n",
       "8          Canada                82        33.7\n",
       "9         Germany                81        30.7\n",
       "10         Sweden                88        25.4\n",
       "11        Denmark                90        27.5\n",
       "12         France                69        30.1\n",
       "13  United States                74        40.8\n",
       "14        Russia                 29        40.1\n",
       "15       Portugal                62        34.2\n",
       "16        Romania                48        34.0\n",
       "17      Argentina                36        42.7\n",
       "18         Greece                44        34.2\n",
       "19      Thailand                 35        39.4"
      ]
     },
     "execution_count": 12,
     "metadata": {},
     "output_type": "execute_result"
    }
   ],
   "source": [
    "df=pd.read_csv('country.csv')\n",
    "df"
   ]
  },
  {
   "cell_type": "code",
   "execution_count": 14,
   "id": "4bbb2413-6e1e-4c41-a3e7-fe965fa696cb",
   "metadata": {},
   "outputs": [
    {
     "name": "stdout",
     "output_type": "stream",
     "text": [
      "<class 'pandas.core.frame.DataFrame'>\n",
      "RangeIndex: 20 entries, 0 to 19\n",
      "Data columns (total 3 columns):\n",
      " #   Column            Non-Null Count  Dtype  \n",
      "---  ------            --------------  -----  \n",
      " 0   Country           20 non-null     object \n",
      " 1   Corruption_Index  20 non-null     int64  \n",
      " 2   Gini_Index        20 non-null     float64\n",
      "dtypes: float64(1), int64(1), object(1)\n",
      "memory usage: 612.0+ bytes\n"
     ]
    }
   ],
   "source": [
    "df.info()"
   ]
  },
  {
   "cell_type": "code",
   "execution_count": 16,
   "id": "13e6da31-0201-4db5-8fb2-ec662e881f83",
   "metadata": {},
   "outputs": [],
   "source": [
    "import statsmodels.api as sm"
   ]
  },
  {
   "cell_type": "code",
   "execution_count": 48,
   "id": "d2c94de3-23e6-4e6b-98e0-5df06a5cf069",
   "metadata": {},
   "outputs": [],
   "source": [
    "X=sm.add_constant(df['Gini_Index'])"
   ]
  },
  {
   "cell_type": "code",
   "execution_count": 42,
   "id": "9eadaa27-ed0a-4335-a1be-fdef201d1147",
   "metadata": {},
   "outputs": [
    {
     "data": {
      "text/html": [
       "<div>\n",
       "<style scoped>\n",
       "    .dataframe tbody tr th:only-of-type {\n",
       "        vertical-align: middle;\n",
       "    }\n",
       "\n",
       "    .dataframe tbody tr th {\n",
       "        vertical-align: top;\n",
       "    }\n",
       "\n",
       "    .dataframe thead th {\n",
       "        text-align: right;\n",
       "    }\n",
       "</style>\n",
       "<table border=\"1\" class=\"dataframe\">\n",
       "  <thead>\n",
       "    <tr style=\"text-align: right;\">\n",
       "      <th></th>\n",
       "      <th>const</th>\n",
       "      <th>Gini_Index</th>\n",
       "    </tr>\n",
       "  </thead>\n",
       "  <tbody>\n",
       "    <tr>\n",
       "      <th>0</th>\n",
       "      <td>1.0</td>\n",
       "      <td>53.7</td>\n",
       "    </tr>\n",
       "    <tr>\n",
       "      <th>1</th>\n",
       "      <td>1.0</td>\n",
       "      <td>30.2</td>\n",
       "    </tr>\n",
       "  </tbody>\n",
       "</table>\n",
       "</div>"
      ],
      "text/plain": [
       "   const  Gini_Index\n",
       "0    1.0        53.7\n",
       "1    1.0        30.2"
      ]
     },
     "execution_count": 42,
     "metadata": {},
     "output_type": "execute_result"
    }
   ],
   "source": [
    "X.head(2)"
   ]
  },
  {
   "cell_type": "code",
   "execution_count": 22,
   "id": "f26e8b55-71b3-466f-bb01-cb02887e783f",
   "metadata": {},
   "outputs": [],
   "source": [
    "Y=df['Corruption_Index']"
   ]
  },
  {
   "cell_type": "code",
   "execution_count": 94,
   "id": "2a24b4d8-2811-4d84-b1b6-2e4f614ee038",
   "metadata": {},
   "outputs": [],
   "source": [
    "from sklearn.model_selection import train_test_split\n",
    "train_x, test_x, train_y, test_y = train_test_split(X, Y, train_size=0.8, random_state=100)"
   ]
  },
  {
   "cell_type": "code",
   "execution_count": 60,
   "id": "3b5c6c0c-b784-4035-b7de-06bf34a6c1e0",
   "metadata": {},
   "outputs": [],
   "source": [
    "df_lm = sm.OLS(train_y, train_x).fit()"
   ]
  },
  {
   "cell_type": "code",
   "execution_count": 66,
   "id": "e6263f8b-a4eb-4dcd-bbd9-3fad09bc55a7",
   "metadata": {},
   "outputs": [
    {
     "name": "stderr",
     "output_type": "stream",
     "text": [
      "C:\\Users\\smedh\\anaconda3\\Lib\\site-packages\\scipy\\stats\\_axis_nan_policy.py:531: UserWarning: kurtosistest only valid for n>=20 ... continuing anyway, n=16\n",
      "  res = hypotest_fun_out(*samples, **kwds)\n"
     ]
    },
    {
     "data": {
      "text/html": [
       "<table class=\"simpletable\">\n",
       "<tr>\n",
       "        <td>Model:</td>               <td>OLS</td>         <td>Adj. R-squared:</td>     <td>0.070</td> \n",
       "</tr>\n",
       "<tr>\n",
       "  <td>Dependent Variable:</td> <td>Corruption_Index</td>        <td>AIC:</td>         <td>140.5223</td>\n",
       "</tr>\n",
       "<tr>\n",
       "         <td>Date:</td>        <td>2024-12-17 19:11</td>        <td>BIC:</td>         <td>142.0674</td>\n",
       "</tr>\n",
       "<tr>\n",
       "   <td>No. Observations:</td>         <td>16</td>          <td>Log-Likelihood:</td>    <td>-68.261</td>\n",
       "</tr>\n",
       "<tr>\n",
       "       <td>Df Model:</td>              <td>1</td>           <td>F-statistic:</td>       <td>2.126</td> \n",
       "</tr>\n",
       "<tr>\n",
       "     <td>Df Residuals:</td>           <td>14</td>        <td>Prob (F-statistic):</td>   <td>0.167</td> \n",
       "</tr>\n",
       "<tr>\n",
       "      <td>R-squared:</td>            <td>0.132</td>            <td>Scale:</td>         <td>339.78</td> \n",
       "</tr>\n",
       "</table>\n",
       "<table class=\"simpletable\">\n",
       "<tr>\n",
       "       <td></td>       <th>Coef.</th>  <th>Std.Err.</th>    <th>t</th>     <th>P>|t|</th> <th>[0.025</th>   <th>0.975]</th> \n",
       "</tr>\n",
       "<tr>\n",
       "  <th>const</th>      <td>95.2224</td>  <td>21.6919</td> <td>4.3898</td>  <td>0.0006</td> <td>48.6980</td> <td>141.7468</td>\n",
       "</tr>\n",
       "<tr>\n",
       "  <th>Gini_Index</th> <td>-0.8976</td>  <td>0.6155</td>  <td>-1.4582</td> <td>0.1668</td> <td>-2.2177</td>  <td>0.4226</td> \n",
       "</tr>\n",
       "</table>\n",
       "<table class=\"simpletable\">\n",
       "<tr>\n",
       "     <td>Omnibus:</td>     <td>1.936</td>  <td>Durbin-Watson:</td>   <td>2.195</td>\n",
       "</tr>\n",
       "<tr>\n",
       "  <td>Prob(Omnibus):</td>  <td>0.380</td> <td>Jarque-Bera (JB):</td> <td>0.999</td>\n",
       "</tr>\n",
       "<tr>\n",
       "       <td>Skew:</td>     <td>-0.169</td>     <td>Prob(JB):</td>     <td>0.607</td>\n",
       "</tr>\n",
       "<tr>\n",
       "     <td>Kurtosis:</td>    <td>1.823</td>  <td>Condition No.:</td>    <td>166</td> \n",
       "</tr>\n",
       "</table><br/>\n",
       "Notes:<br/>\n",
       "[1] Standard Errors assume that the covariance matrix of the errors is correctly specified."
      ],
      "text/latex": [
       "\\begin{table}\n",
       "\\caption{Results: Ordinary least squares}\n",
       "\\label{}\n",
       "\\begin{center}\n",
       "\\begin{tabular}{llll}\n",
       "\\hline\n",
       "Model:              & OLS               & Adj. R-squared:     & 0.070     \\\\\n",
       "Dependent Variable: & Corruption\\_Index & AIC:                & 140.5223  \\\\\n",
       "Date:               & 2024-12-17 19:11  & BIC:                & 142.0674  \\\\\n",
       "No. Observations:   & 16                & Log-Likelihood:     & -68.261   \\\\\n",
       "Df Model:           & 1                 & F-statistic:        & 2.126     \\\\\n",
       "Df Residuals:       & 14                & Prob (F-statistic): & 0.167     \\\\\n",
       "R-squared:          & 0.132             & Scale:              & 339.78    \\\\\n",
       "\\hline\n",
       "\\end{tabular}\n",
       "\\end{center}\n",
       "\n",
       "\\begin{center}\n",
       "\\begin{tabular}{lrrrrrr}\n",
       "\\hline\n",
       "            &   Coef. & Std.Err. &       t & P$> |$t$|$ &  [0.025 &   0.975]  \\\\\n",
       "\\hline\n",
       "const       & 95.2224 &  21.6919 &  4.3898 &      0.0006 & 48.6980 & 141.7468  \\\\\n",
       "Gini\\_Index & -0.8976 &   0.6155 & -1.4582 &      0.1668 & -2.2177 &   0.4226  \\\\\n",
       "\\hline\n",
       "\\end{tabular}\n",
       "\\end{center}\n",
       "\n",
       "\\begin{center}\n",
       "\\begin{tabular}{llll}\n",
       "\\hline\n",
       "Omnibus:       & 1.936  & Durbin-Watson:    & 2.195  \\\\\n",
       "Prob(Omnibus): & 0.380  & Jarque-Bera (JB): & 0.999  \\\\\n",
       "Skew:          & -0.169 & Prob(JB):         & 0.607  \\\\\n",
       "Kurtosis:      & 1.823  & Condition No.:    & 166    \\\\\n",
       "\\hline\n",
       "\\end{tabular}\n",
       "\\end{center}\n",
       "\\end{table}\n",
       "\\bigskip\n",
       "Notes: \\newline \n",
       "[1] Standard Errors assume that the covariance matrix of the errors is correctly specified."
      ],
      "text/plain": [
       "<class 'statsmodels.iolib.summary2.Summary'>\n",
       "\"\"\"\n",
       "                 Results: Ordinary least squares\n",
       "=================================================================\n",
       "Model:              OLS              Adj. R-squared:     0.070   \n",
       "Dependent Variable: Corruption_Index AIC:                140.5223\n",
       "Date:               2024-12-17 19:11 BIC:                142.0674\n",
       "No. Observations:   16               Log-Likelihood:     -68.261 \n",
       "Df Model:           1                F-statistic:        2.126   \n",
       "Df Residuals:       14               Prob (F-statistic): 0.167   \n",
       "R-squared:          0.132            Scale:              339.78  \n",
       "------------------------------------------------------------------\n",
       "              Coef.   Std.Err.     t     P>|t|    [0.025   0.975] \n",
       "------------------------------------------------------------------\n",
       "const        95.2224   21.6919   4.3898  0.0006  48.6980  141.7468\n",
       "Gini_Index   -0.8976    0.6155  -1.4582  0.1668  -2.2177    0.4226\n",
       "-----------------------------------------------------------------\n",
       "Omnibus:               1.936        Durbin-Watson:          2.195\n",
       "Prob(Omnibus):         0.380        Jarque-Bera (JB):       0.999\n",
       "Skew:                  -0.169       Prob(JB):               0.607\n",
       "Kurtosis:              1.823        Condition No.:          166  \n",
       "=================================================================\n",
       "Notes:\n",
       "[1] Standard Errors assume that the covariance matrix of the\n",
       "errors is correctly specified.\n",
       "\"\"\""
      ]
     },
     "execution_count": 66,
     "metadata": {},
     "output_type": "execute_result"
    }
   ],
   "source": [
    "df_lm.summary2()"
   ]
  },
  {
   "cell_type": "code",
   "execution_count": 72,
   "id": "3e0dac78-a850-454e-b6ff-57223c68a01c",
   "metadata": {},
   "outputs": [],
   "source": [
    "test_y_pred= df_lm.predict(test_x)"
   ]
  },
  {
   "cell_type": "code",
   "execution_count": 76,
   "id": "39b75381-ff8b-4b80-b3b6-5ea05dace96d",
   "metadata": {},
   "outputs": [
    {
     "data": {
      "text/plain": [
       "0.09564052280707058"
      ]
     },
     "execution_count": 76,
     "metadata": {},
     "output_type": "execute_result"
    }
   ],
   "source": [
    "from sklearn.metrics import r2_score\n",
    "r2_test = r2_score(test_y, test_y_pred)\n",
    "r2_test"
   ]
  },
  {
   "cell_type": "code",
   "execution_count": 78,
   "id": "b4de69b2-7029-46a3-b339-5d93325b12c1",
   "metadata": {},
   "outputs": [],
   "source": [
    "p_value = df_lm.pvalues['Gini_Index']"
   ]
  },
  {
   "cell_type": "code",
   "execution_count": 80,
   "id": "45fb72eb-cc6f-4303-aa5c-8e6a9323ab4e",
   "metadata": {},
   "outputs": [
    {
     "name": "stdout",
     "output_type": "stream",
     "text": [
      "The relationship is NOT statistically significant (p-value = 0.1668).\n"
     ]
    }
   ],
   "source": [
    "alpha = 0.1\n",
    "if p_value <= alpha:\n",
    "    print(f\"The relationship is statistically significant (p-value = {p_value:.4f}).\")\n",
    "else:\n",
    "    print(f\"The relationship is NOT statistically significant (p-value = {p_value:.4f}).\")"
   ]
  },
  {
   "cell_type": "code",
   "execution_count": 84,
   "id": "b10adadc-0cc6-498f-92ab-0e9921a2e886",
   "metadata": {},
   "outputs": [],
   "source": [
    "import scipy.stats as stats\n",
    "\n",
    "b1 = df_lm.params['Gini_Index']\n",
    "SE_b1 = df_lm.bse['Gini_Index']\n",
    "\n",
    "df = len(train_x) - 2"
   ]
  },
  {
   "cell_type": "code",
   "execution_count": 86,
   "id": "10f1b127-9ef8-45c1-9779-9bac6c3eefb7",
   "metadata": {},
   "outputs": [],
   "source": [
    "t_critical = stats.t.ppf(1 - 0.05/2, df)"
   ]
  },
  {
   "cell_type": "code",
   "execution_count": 88,
   "id": "666ed76c-e504-4cc7-95af-5f4e6bbc26a0",
   "metadata": {},
   "outputs": [],
   "source": [
    "CI_lower = b1 - t_critical * SE_b1\n",
    "CI_upper = b1 + t_critical * SE_b1"
   ]
  },
  {
   "cell_type": "code",
   "execution_count": 92,
   "id": "f724edf8-569e-415b-a00a-86cede0ccc5f",
   "metadata": {},
   "outputs": [
    {
     "name": "stdout",
     "output_type": "stream",
     "text": [
      "95% Confidence Interval for b1 (Gini Index): (-2.2177, 0.4226)\n"
     ]
    }
   ],
   "source": [
    "print(f\"95% Confidence Interval for b1 (Gini Index): ({CI_lower:.4f}, {CI_upper:.4f})\")"
   ]
  }
 ],
 "metadata": {
  "kernelspec": {
   "display_name": "Python 3 (ipykernel)",
   "language": "python",
   "name": "python3"
  },
  "language_info": {
   "codemirror_mode": {
    "name": "ipython",
    "version": 3
   },
   "file_extension": ".py",
   "mimetype": "text/x-python",
   "name": "python",
   "nbconvert_exporter": "python",
   "pygments_lexer": "ipython3",
   "version": "3.12.4"
  }
 },
 "nbformat": 4,
 "nbformat_minor": 5
}
